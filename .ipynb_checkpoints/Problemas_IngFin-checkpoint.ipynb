{
 "cells": [
  {
   "cell_type": "markdown",
   "id": "40f37131",
   "metadata": {},
   "source": [
    "## Cálculo de Tasas para CETES\n",
    "\n",
    "Los **CETES** son instrumentos de deuda del gobierno conocidos como bonos cupón cero. Esto significa que no generan pagos de intereses periódicos. En lugar de ello, se adquieren a un precio inferior al valor nominal y al vencimiento, el gobierno paga el valor nominal completo.\n",
    "\n",
    "### Tasa de Descuento\n",
    "\n",
    "La **tasa de descuento** se refiere al interés implícito que se gana al comprar el bono a un precio menor que su valor nominal. Se calcula utilizando la diferencia entre el valor nominal y el precio de compra, ajustado al plazo del bono:\n",
    "\n",
    "$ T_d = \\left( \\frac{Valor\\ Nominal - Precio}{Valor\\ Nominal} \\right) \\times \\left( \\frac{360}{Días} \\right) $\n",
    "\n",
    "Donde:\n",
    "- $ T_d $ es la tasa de descuento.\n",
    "- \"Valor Nominal\" es el valor que el bono tendrá al finalizar su plazo, comúnmente $10.00 MXN para los CETES.\n",
    "- \"Precio\" es el costo de adquisición del CETE.\n",
    "- \"Días\" es el plazo hasta el vencimiento del CETE.\n",
    "\n",
    "### Tasa de Rendimiento\n",
    "\n",
    "La **tasa de rendimiento**, también conocida como la tasa de interés efectiva, se calcula utilizando la relación entre el precio actual y el valor nominal, teniendo en cuenta el tiempo hasta el vencimiento. La fórmula es:\n",
    "\n",
    "$ T_y = \\left( \\frac{Valor\\ Nominal}{Precio} \\right)^{\\frac{360}{Días}} - 1 $\n",
    "\n",
    "Donde:\n",
    "- $ T_y $ es la tasa de rendimiento.\n",
    "- \"Valor Nominal\" y \"Precio\" se definen igual que en la tasa de descuento.\n",
    "- \"Días\" representa el número de días hasta el vencimiento del CETE.\n",
    "\n",
    "Estas tasas nos permiten entender la rentabilidad esperada de invertir en CETES para diferentes períodos, considerando el precio actual y el valor nominal al vencimiento.\n"
   ]
  },
  {
   "cell_type": "code",
   "execution_count": 1,
   "id": "6b59bbd4",
   "metadata": {},
   "outputs": [
    {
     "data": {
      "text/plain": [
       "[{'dias': 28,\n",
       "  'tasa_descuento': 0.11571428571428553,\n",
       "  'tasa_rendimiento': 0.12326334042467524},\n",
       " {'dias': 90,\n",
       "  'tasa_descuento': 0.10799999999999983,\n",
       "  'tasa_rendimiento': 0.11570309782069499},\n",
       " {'dias': 180,\n",
       "  'tasa_descuento': 0.10399999999999991,\n",
       "  'tasa_rendimiento': 0.11271341843365557},\n",
       " {'dias': 360,\n",
       "  'tasa_descuento': 0.10099999999999998,\n",
       "  'tasa_rendimiento': 0.11234705228031139},\n",
       " {'dias': 720,\n",
       "  'tasa_descuento': 0.08849999999999998,\n",
       "  'tasa_rendimiento': 0.10230069793844221}]"
      ]
     },
     "execution_count": 1,
     "metadata": {},
     "output_type": "execute_result"
    }
   ],
   "source": [
    "# Datos de los CETES\n",
    "cetes = [\n",
    "    {'dias': 28, 'precio': 9.91},\n",
    "    {'dias': 90, 'precio': 9.73},\n",
    "    {'dias': 180, 'precio': 9.48},\n",
    "    {'dias': 360, 'precio': 8.99},\n",
    "    {'dias': 720, 'precio': 8.23}\n",
    "]\n",
    "\n",
    "# Valor nominal de los CETES\n",
    "valor_nominal = 10\n",
    "\n",
    "# Calculamos la tasa de descuento y la tasa de rendimiento para cada plazo\n",
    "resultados = []\n",
    "for cete in cetes:\n",
    "    tasa_descuento = ((valor_nominal - cete['precio']) / valor_nominal) * (360 / cete['dias'])\n",
    "    tasa_rendimiento = ((valor_nominal / cete['precio']) ** (360 / cete['dias'])) - 1\n",
    "    resultados.append({\n",
    "        'dias': cete['dias'],\n",
    "        'tasa_descuento': tasa_descuento,\n",
    "        'tasa_rendimiento': tasa_rendimiento\n",
    "    })\n",
    "\n",
    "resultados\n"
   ]
  },
  {
   "cell_type": "code",
   "execution_count": null,
   "id": "f9695f32",
   "metadata": {},
   "outputs": [],
   "source": []
  }
 ],
 "metadata": {
  "kernelspec": {
   "display_name": "sim2",
   "language": "python",
   "name": "sim2"
  },
  "language_info": {
   "codemirror_mode": {
    "name": "ipython",
    "version": 3
   },
   "file_extension": ".py",
   "mimetype": "text/x-python",
   "name": "python",
   "nbconvert_exporter": "python",
   "pygments_lexer": "ipython3",
   "version": "3.10.12"
  }
 },
 "nbformat": 4,
 "nbformat_minor": 5
}
